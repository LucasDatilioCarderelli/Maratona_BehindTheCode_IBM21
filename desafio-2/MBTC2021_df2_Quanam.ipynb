{
  "nbformat": 4,
  "nbformat_minor": 0,
  "metadata": {
    "colab": {
      "name": "MBTC2021_df2-Quanam",
      "provenance": [],
      "collapsed_sections": [
        "RIYFBEcNqbXh",
        "aM-29SQpsV7S",
        "b0Vqn1bgsY_T",
        "QL8QllarsgXy"
      ],
      "toc_visible": true,
      "authorship_tag": "ABX9TyNSVRNvNFl+GpKX+zV59/64",
      "include_colab_link": true
    },
    "kernelspec": {
      "name": "python3",
      "display_name": "Python 3"
    },
    "language_info": {
      "name": "python"
    },
    "widgets": {
      "application/vnd.jupyter.widget-state+json": {
        "d0dceb5a70434e3f8bb95e9b0fe40ced": {
          "model_module": "@jupyter-widgets/controls",
          "model_name": "HBoxModel",
          "model_module_version": "1.5.0",
          "state": {
            "_view_name": "HBoxView",
            "_dom_classes": [],
            "_model_name": "HBoxModel",
            "_view_module": "@jupyter-widgets/controls",
            "_model_module_version": "1.5.0",
            "_view_count": null,
            "_view_module_version": "1.5.0",
            "box_style": "",
            "layout": "IPY_MODEL_bd9be885db924191bddd878fc191a25c",
            "_model_module": "@jupyter-widgets/controls",
            "children": [
              "IPY_MODEL_8c8e073a16614d5bad010775048dacc5",
              "IPY_MODEL_2fa0f201bf3c4e39909c610b8badd0a3",
              "IPY_MODEL_75ef8981a15846dbacaea3eee546dec4"
            ]
          }
        },
        "bd9be885db924191bddd878fc191a25c": {
          "model_module": "@jupyter-widgets/base",
          "model_name": "LayoutModel",
          "model_module_version": "1.2.0",
          "state": {
            "_view_name": "LayoutView",
            "grid_template_rows": null,
            "right": null,
            "justify_content": null,
            "_view_module": "@jupyter-widgets/base",
            "overflow": null,
            "_model_module_version": "1.2.0",
            "_view_count": null,
            "flex_flow": null,
            "width": null,
            "min_width": null,
            "border": null,
            "align_items": null,
            "bottom": null,
            "_model_module": "@jupyter-widgets/base",
            "top": null,
            "grid_column": null,
            "overflow_y": null,
            "overflow_x": null,
            "grid_auto_flow": null,
            "grid_area": null,
            "grid_template_columns": null,
            "flex": null,
            "_model_name": "LayoutModel",
            "justify_items": null,
            "grid_row": null,
            "max_height": null,
            "align_content": null,
            "visibility": null,
            "align_self": null,
            "height": null,
            "min_height": null,
            "padding": null,
            "grid_auto_rows": null,
            "grid_gap": null,
            "max_width": null,
            "order": null,
            "_view_module_version": "1.2.0",
            "grid_template_areas": null,
            "object_position": null,
            "object_fit": null,
            "grid_auto_columns": null,
            "margin": null,
            "display": null,
            "left": null
          }
        },
        "8c8e073a16614d5bad010775048dacc5": {
          "model_module": "@jupyter-widgets/controls",
          "model_name": "HTMLModel",
          "model_module_version": "1.5.0",
          "state": {
            "_view_name": "HTMLView",
            "style": "IPY_MODEL_9981f95aee4848f4bfe7b2519a2fe517",
            "_dom_classes": [],
            "description": "",
            "_model_name": "HTMLModel",
            "placeholder": "​",
            "_view_module": "@jupyter-widgets/controls",
            "_model_module_version": "1.5.0",
            "value": "Optimization Progress: 100%",
            "_view_count": null,
            "_view_module_version": "1.5.0",
            "description_tooltip": null,
            "_model_module": "@jupyter-widgets/controls",
            "layout": "IPY_MODEL_d2ad77c45f5841e49397a995f56f04be"
          }
        },
        "2fa0f201bf3c4e39909c610b8badd0a3": {
          "model_module": "@jupyter-widgets/controls",
          "model_name": "FloatProgressModel",
          "model_module_version": "1.5.0",
          "state": {
            "_view_name": "ProgressView",
            "style": "IPY_MODEL_4da85c06f7a94919a817d5674ce36c8d",
            "_dom_classes": [],
            "description": "",
            "_model_name": "FloatProgressModel",
            "bar_style": "",
            "max": 1100,
            "_view_module": "@jupyter-widgets/controls",
            "_model_module_version": "1.5.0",
            "value": 1100,
            "_view_count": null,
            "_view_module_version": "1.5.0",
            "orientation": "horizontal",
            "min": 0,
            "description_tooltip": null,
            "_model_module": "@jupyter-widgets/controls",
            "layout": "IPY_MODEL_eb45c8b3b4ae41bba4692d38f368b1cb"
          }
        },
        "75ef8981a15846dbacaea3eee546dec4": {
          "model_module": "@jupyter-widgets/controls",
          "model_name": "HTMLModel",
          "model_module_version": "1.5.0",
          "state": {
            "_view_name": "HTMLView",
            "style": "IPY_MODEL_cb58d4d98b544f9299d92da3e90e322c",
            "_dom_classes": [],
            "description": "",
            "_model_name": "HTMLModel",
            "placeholder": "​",
            "_view_module": "@jupyter-widgets/controls",
            "_model_module_version": "1.5.0",
            "value": " 1100/1100 [31:11&lt;00:00,  1.09s/pipeline]",
            "_view_count": null,
            "_view_module_version": "1.5.0",
            "description_tooltip": null,
            "_model_module": "@jupyter-widgets/controls",
            "layout": "IPY_MODEL_d9b9fffaafab43d3a982142cf3571e1d"
          }
        },
        "9981f95aee4848f4bfe7b2519a2fe517": {
          "model_module": "@jupyter-widgets/controls",
          "model_name": "DescriptionStyleModel",
          "model_module_version": "1.5.0",
          "state": {
            "_view_name": "StyleView",
            "_model_name": "DescriptionStyleModel",
            "description_width": "",
            "_view_module": "@jupyter-widgets/base",
            "_model_module_version": "1.5.0",
            "_view_count": null,
            "_view_module_version": "1.2.0",
            "_model_module": "@jupyter-widgets/controls"
          }
        },
        "d2ad77c45f5841e49397a995f56f04be": {
          "model_module": "@jupyter-widgets/base",
          "model_name": "LayoutModel",
          "model_module_version": "1.2.0",
          "state": {
            "_view_name": "LayoutView",
            "grid_template_rows": null,
            "right": null,
            "justify_content": null,
            "_view_module": "@jupyter-widgets/base",
            "overflow": null,
            "_model_module_version": "1.2.0",
            "_view_count": null,
            "flex_flow": null,
            "width": null,
            "min_width": null,
            "border": null,
            "align_items": null,
            "bottom": null,
            "_model_module": "@jupyter-widgets/base",
            "top": null,
            "grid_column": null,
            "overflow_y": null,
            "overflow_x": null,
            "grid_auto_flow": null,
            "grid_area": null,
            "grid_template_columns": null,
            "flex": null,
            "_model_name": "LayoutModel",
            "justify_items": null,
            "grid_row": null,
            "max_height": null,
            "align_content": null,
            "visibility": null,
            "align_self": null,
            "height": null,
            "min_height": null,
            "padding": null,
            "grid_auto_rows": null,
            "grid_gap": null,
            "max_width": null,
            "order": null,
            "_view_module_version": "1.2.0",
            "grid_template_areas": null,
            "object_position": null,
            "object_fit": null,
            "grid_auto_columns": null,
            "margin": null,
            "display": null,
            "left": null
          }
        },
        "4da85c06f7a94919a817d5674ce36c8d": {
          "model_module": "@jupyter-widgets/controls",
          "model_name": "ProgressStyleModel",
          "model_module_version": "1.5.0",
          "state": {
            "_view_name": "StyleView",
            "_model_name": "ProgressStyleModel",
            "description_width": "",
            "_view_module": "@jupyter-widgets/base",
            "_model_module_version": "1.5.0",
            "_view_count": null,
            "_view_module_version": "1.2.0",
            "bar_color": null,
            "_model_module": "@jupyter-widgets/controls"
          }
        },
        "eb45c8b3b4ae41bba4692d38f368b1cb": {
          "model_module": "@jupyter-widgets/base",
          "model_name": "LayoutModel",
          "model_module_version": "1.2.0",
          "state": {
            "_view_name": "LayoutView",
            "grid_template_rows": null,
            "right": null,
            "justify_content": null,
            "_view_module": "@jupyter-widgets/base",
            "overflow": null,
            "_model_module_version": "1.2.0",
            "_view_count": null,
            "flex_flow": null,
            "width": null,
            "min_width": null,
            "border": null,
            "align_items": null,
            "bottom": null,
            "_model_module": "@jupyter-widgets/base",
            "top": null,
            "grid_column": null,
            "overflow_y": null,
            "overflow_x": null,
            "grid_auto_flow": null,
            "grid_area": null,
            "grid_template_columns": null,
            "flex": null,
            "_model_name": "LayoutModel",
            "justify_items": null,
            "grid_row": null,
            "max_height": null,
            "align_content": null,
            "visibility": null,
            "align_self": null,
            "height": null,
            "min_height": null,
            "padding": null,
            "grid_auto_rows": null,
            "grid_gap": null,
            "max_width": null,
            "order": null,
            "_view_module_version": "1.2.0",
            "grid_template_areas": null,
            "object_position": null,
            "object_fit": null,
            "grid_auto_columns": null,
            "margin": null,
            "display": null,
            "left": null
          }
        },
        "cb58d4d98b544f9299d92da3e90e322c": {
          "model_module": "@jupyter-widgets/controls",
          "model_name": "DescriptionStyleModel",
          "model_module_version": "1.5.0",
          "state": {
            "_view_name": "StyleView",
            "_model_name": "DescriptionStyleModel",
            "description_width": "",
            "_view_module": "@jupyter-widgets/base",
            "_model_module_version": "1.5.0",
            "_view_count": null,
            "_view_module_version": "1.2.0",
            "_model_module": "@jupyter-widgets/controls"
          }
        },
        "d9b9fffaafab43d3a982142cf3571e1d": {
          "model_module": "@jupyter-widgets/base",
          "model_name": "LayoutModel",
          "model_module_version": "1.2.0",
          "state": {
            "_view_name": "LayoutView",
            "grid_template_rows": null,
            "right": null,
            "justify_content": null,
            "_view_module": "@jupyter-widgets/base",
            "overflow": null,
            "_model_module_version": "1.2.0",
            "_view_count": null,
            "flex_flow": null,
            "width": null,
            "min_width": null,
            "border": null,
            "align_items": null,
            "bottom": null,
            "_model_module": "@jupyter-widgets/base",
            "top": null,
            "grid_column": null,
            "overflow_y": null,
            "overflow_x": null,
            "grid_auto_flow": null,
            "grid_area": null,
            "grid_template_columns": null,
            "flex": null,
            "_model_name": "LayoutModel",
            "justify_items": null,
            "grid_row": null,
            "max_height": null,
            "align_content": null,
            "visibility": null,
            "align_self": null,
            "height": null,
            "min_height": null,
            "padding": null,
            "grid_auto_rows": null,
            "grid_gap": null,
            "max_width": null,
            "order": null,
            "_view_module_version": "1.2.0",
            "grid_template_areas": null,
            "object_position": null,
            "object_fit": null,
            "grid_auto_columns": null,
            "margin": null,
            "display": null,
            "left": null
          }
        }
      }
    }
  },
  "cells": [
    {
      "cell_type": "markdown",
      "metadata": {
        "id": "view-in-github",
        "colab_type": "text"
      },
      "source": [
        "<a href=\"https://colab.research.google.com/github/LucasDatilioCarderelli/Maratona_BehindTheCode_IBM21/blob/main/desafio-2/MBTC2021_df2_Quanam.ipynb\" target=\"_parent\"><img src=\"https://colab.research.google.com/assets/colab-badge.svg\" alt=\"Open In Colab\"/></a>"
      ]
    },
    {
      "cell_type": "markdown",
      "metadata": {
        "id": "XtNlEZyvqdzQ"
      },
      "source": [
        "# MBTC21_df2-Quanam"
      ]
    },
    {
      "cell_type": "markdown",
      "metadata": {
        "id": "RIYFBEcNqbXh"
      },
      "source": [
        "## Part 1 - Functions"
      ]
    },
    {
      "cell_type": "markdown",
      "metadata": {
        "id": "_Ha_bltQO5Yz"
      },
      "source": [
        "https://us-south.functions.appdomain.cloud/api/v1/web/llucascarderelli%40gmail.com_dev/default/Quanam.json"
      ]
    },
    {
      "cell_type": "code",
      "metadata": {
        "id": "_LB5qgxHGDsy"
      },
      "source": [
        "dict = {\n",
        "  \"room\": \"bathroom-main\",\n",
        "  \"values\": {\n",
        "    \"co2\": 400,\n",
        "    \"temperature\": 22,\n",
        "    \"humidity\": 70,\n",
        "    \"sound\": 30,\n",
        "    \"illumination\": 150\n",
        "  }\n",
        "}"
      ],
      "execution_count": null,
      "outputs": []
    },
    {
      "cell_type": "code",
      "metadata": {
        "colab": {
          "base_uri": "https://localhost:8080/"
        },
        "id": "-bLOP7ZnGUmV",
        "outputId": "19c013e9-c0ed-455a-d1ce-e537f50670a6"
      },
      "source": [
        "import sys\n",
        "\n",
        "def main(dict):\n",
        "    alerts = []\n",
        "    \n",
        "    try:\n",
        "        room = dict['room']\n",
        "        values = dict['values']\n",
        "    \n",
        "        if room == 'activity-room':\n",
        "            if values['co2'] >= 500:\n",
        "                alerts.append('co2')\n",
        "            if values['temperature'] <= 19 or values['temperature'] >= 22:\n",
        "                alerts.append('temperature')\n",
        "            if values['humidity'] <= 50 or values['humidity'] >= 60:\n",
        "                alerts.append('humidity')\n",
        "            if values['sound'] <= 0 or values['sound'] >= 40:\n",
        "                alerts.append('sound')\n",
        "            if values['illumination'] <= 300 or values['illumination'] >= 750:\n",
        "                alerts.append('illumination')\n",
        "        if room == 'refectory':\n",
        "            if values['co2'] >= 400:\n",
        "                alerts.append('co2')\n",
        "            if values['temperature'] <= 20 or values['temperature'] >= 23:\n",
        "                alerts.append('temperature')\n",
        "            if values['humidity'] <= 50 or values['humidity'] >= 70:\n",
        "                alerts.append('humidity')\n",
        "            if values['sound'] <= 20 or values['sound'] >= 35:\n",
        "                alerts.append('sound')\n",
        "            if values['illumination'] <= 200 or values['illumination'] >= 500:\n",
        "                alerts.append('illumination')\n",
        "        if room == 'room-1':\n",
        "            if values['co2'] >= 300:\n",
        "                alerts.append('co2')\n",
        "            if values['temperature'] <= 21 or values['temperature'] >= 23:\n",
        "                alerts.append('temperature')\n",
        "            if values['humidity'] <= 50 or values['humidity'] >= 60:\n",
        "                alerts.append('humidity')\n",
        "            if values['sound'] <= 10 or values['sound'] >= 30:\n",
        "                alerts.append('sound')\n",
        "            if values['illumination'] <= 100 or values['illumination'] >= 200:\n",
        "                alerts.append('illumination')\n",
        "        if room == 'bathroom-main':\n",
        "            if values['co2'] >= 500:\n",
        "                alerts.append('co2')\n",
        "            if values['temperature'] <= 22 or values['temperature'] >= 25:\n",
        "                alerts.append('temperature')\n",
        "            if values['humidity'] <= 60 or values['humidity'] >= 75:\n",
        "                alerts.append('humidity')\n",
        "            if values['sound'] <= 20 or values['sound'] >= 35:\n",
        "                alerts.append('sound')\n",
        "            if values['illumination'] <= 100 or values['illumination'] >= 200:\n",
        "                alerts.append('illumination')\n",
        "        if room == 'garden':\n",
        "            if values['co2'] >= 500:\n",
        "                alerts.append('co2')\n",
        "            if values['temperature'] <= 15 or values['temperature'] >= 22:\n",
        "                alerts.append('temperature')\n",
        "            if values['humidity'] <= 50 or values['humidity'] >= 80:\n",
        "                alerts.append('humidity')\n",
        "            if values['sound'] <= 10 or values['sound'] >= 35:\n",
        "                alerts.append('sound')\n",
        "    except: None\n",
        "    \n",
        "    message = {\n",
        "        'alerts': alerts\n",
        "    }\n",
        "\n",
        "    return message\n",
        "    \n",
        "\n",
        "main(dict)"
      ],
      "execution_count": null,
      "outputs": [
        {
          "output_type": "execute_result",
          "data": {
            "text/plain": [
              "{'alerts': ['temperature']}"
            ]
          },
          "metadata": {},
          "execution_count": 67
        }
      ]
    },
    {
      "cell_type": "markdown",
      "metadata": {
        "id": "E6K9MPetGvzZ"
      },
      "source": [
        "| Dado                        | Unidade de Medida | Ambiente                             | Alcance de valores aceitáveis    |\n",
        "| --------------------------- | ----------------- | ------------------------------------ | -------------------------------- |\n",
        "| CO2 (`co2`)                 | PPM               | Sala de Atividades (`activity-room`) | Até 500                          |\n",
        "| \"                           | \"                 | Refeitório (`refectory`)             | Até 400                          |\n",
        "| \"                           | \"                 | Quarto 1 (`room-1`)                  | Até 300                          |\n",
        "| \"                           | \"                 | Banheiro Principal (`bathroom-main`) | Até 500                          |\n",
        "| \"                           | \"                 | Jardim (`garden`)                    | Até 500                          |\n",
        "| Temperatura (`temperature`) | °C                | Sala de Atividades (`activity-room`) | 19 - 22                          |\n",
        "| \"                           | \"                 | Refeitório (`refectory`)             | 20 - 23                          |\n",
        "| \"                           | \"                 | Quarto 1 (`room-1`)                  | 21 - 23                          |\n",
        "| \"                           | \"                 | Banheiro Principal (`bathroom-main`) | 22 - 25                          |\n",
        "| \"                           | \"                 | Jardim (`garden`)                    | 15 - 22                          |\n",
        "| Humidade (`humidity`)       | %                 | Sala de Atividades (`activity-room`) | 50 - 60                          |\n",
        "| \"                           | \"                 | Refeitório (`refectory`)             | 50 - 70                          |\n",
        "| \"                           | \"                 | Quarto 1 (`room-1`)                  | 50 - 60                          |\n",
        "| \"                           | \"                 | Banheiro Principal (`bathroom-main`) | 60 - 75                          |\n",
        "| \"                           | \"                 | Jardim (`garden`)                    | 50 - 80                          |\n",
        "| Som (`sound`)               | dB                | Sala de Atividades (`activity-room`) | 0 - 40                           |\n",
        "| \"                           | \"                 | Refeitório (`refectory`)             | 20 - 35                          |\n",
        "| \"                           | \"                 | Quarto 1 (`room-1`)                  | 10 - 30                          |\n",
        "| \"                           | \"                 | Banheiro Principal (`bathroom-main`) | 20 - 35                          |\n",
        "| \"                           | \"                 | Jardim (`garden`)                    | 10 - 35                          |\n",
        "| Iluminação (`illumination`) | Lux               | Sala de Atividades (`activity-room`) | 300 - 750                        |\n",
        "| \"                           | \"                 | Refeitório (`refectory`)             | 200 - 500                        |\n",
        "| \"                           | \"                 | Quarto 1 (`room-1`)                  | 100 - 200                        |\n",
        "| \"                           | \"                 | Banheiro Principal (`bathroom-main`) | 100 - 200                        |\n",
        "| \"                           | \"                 | Jardim (`garden`)                    | N/A (Qualquer valor é aceitável) |"
      ]
    },
    {
      "cell_type": "markdown",
      "metadata": {
        "id": "lV1RupO8atcF"
      },
      "source": [
        "## Part 2 - ML"
      ]
    },
    {
      "cell_type": "markdown",
      "metadata": {
        "id": "aM-29SQpsV7S"
      },
      "source": [
        "### Installs"
      ]
    },
    {
      "cell_type": "code",
      "metadata": {
        "colab": {
          "base_uri": "https://localhost:8080/"
        },
        "id": "O9O_Sv2jRRd3",
        "outputId": "bf8ca4b7-82f0-4a90-e3ba-39da1c37b32d"
      },
      "source": [
        "!pip install cloudant tpot AutoFeat"
      ],
      "execution_count": null,
      "outputs": [
        {
          "output_type": "stream",
          "name": "stdout",
          "text": [
            "Requirement already satisfied: cloudant in /usr/local/lib/python3.7/dist-packages (2.15.0)\n",
            "Requirement already satisfied: tpot in /usr/local/lib/python3.7/dist-packages (0.11.7)\n",
            "Requirement already satisfied: featuretools in /usr/local/lib/python3.7/dist-packages (1.2.0)\n",
            "Requirement already satisfied: AutoFeat in /usr/local/lib/python3.7/dist-packages (2.0.10)\n",
            "Requirement already satisfied: requests<3.0.0,>=2.7.0 in /usr/local/lib/python3.7/dist-packages (from cloudant) (2.23.0)\n",
            "Requirement already satisfied: idna<3,>=2.5 in /usr/local/lib/python3.7/dist-packages (from requests<3.0.0,>=2.7.0->cloudant) (2.10)\n",
            "Requirement already satisfied: certifi>=2017.4.17 in /usr/local/lib/python3.7/dist-packages (from requests<3.0.0,>=2.7.0->cloudant) (2021.10.8)\n",
            "Requirement already satisfied: urllib3!=1.25.0,!=1.25.1,<1.26,>=1.21.1 in /usr/local/lib/python3.7/dist-packages (from requests<3.0.0,>=2.7.0->cloudant) (1.24.3)\n",
            "Requirement already satisfied: chardet<4,>=3.0.2 in /usr/local/lib/python3.7/dist-packages (from requests<3.0.0,>=2.7.0->cloudant) (3.0.4)\n",
            "Requirement already satisfied: joblib>=0.13.2 in /usr/local/lib/python3.7/dist-packages (from tpot) (1.1.0)\n",
            "Requirement already satisfied: numpy>=1.16.3 in /usr/local/lib/python3.7/dist-packages (from tpot) (1.19.5)\n",
            "Requirement already satisfied: scipy>=1.3.1 in /usr/local/lib/python3.7/dist-packages (from tpot) (1.4.1)\n",
            "Requirement already satisfied: pandas>=0.24.2 in /usr/local/lib/python3.7/dist-packages (from tpot) (1.3.4)\n",
            "Requirement already satisfied: xgboost>=1.1.0 in /usr/local/lib/python3.7/dist-packages (from tpot) (1.5.1)\n",
            "Requirement already satisfied: deap>=1.2 in /usr/local/lib/python3.7/dist-packages (from tpot) (1.3.1)\n",
            "Requirement already satisfied: tqdm>=4.36.1 in /usr/local/lib/python3.7/dist-packages (from tpot) (4.62.3)\n",
            "Requirement already satisfied: scikit-learn>=0.22.0 in /usr/local/lib/python3.7/dist-packages (from tpot) (1.0.1)\n",
            "Requirement already satisfied: update-checker>=0.16 in /usr/local/lib/python3.7/dist-packages (from tpot) (0.18.0)\n",
            "Requirement already satisfied: stopit>=1.1.1 in /usr/local/lib/python3.7/dist-packages (from tpot) (1.1.2)\n",
            "Requirement already satisfied: pytz>=2017.3 in /usr/local/lib/python3.7/dist-packages (from pandas>=0.24.2->tpot) (2018.9)\n",
            "Requirement already satisfied: python-dateutil>=2.7.3 in /usr/local/lib/python3.7/dist-packages (from pandas>=0.24.2->tpot) (2.8.2)\n",
            "Requirement already satisfied: six>=1.5 in /usr/local/lib/python3.7/dist-packages (from python-dateutil>=2.7.3->pandas>=0.24.2->tpot) (1.15.0)\n",
            "Requirement already satisfied: threadpoolctl>=2.0.0 in /usr/local/lib/python3.7/dist-packages (from scikit-learn>=0.22.0->tpot) (3.0.0)\n",
            "Requirement already satisfied: cloudpickle>=1.5.0 in /usr/local/lib/python3.7/dist-packages (from featuretools) (2.0.0)\n",
            "Requirement already satisfied: dask[dataframe]>=2021.10.0 in /usr/local/lib/python3.7/dist-packages (from featuretools) (2021.11.2)\n",
            "Requirement already satisfied: distributed>=2021.10.0 in /usr/local/lib/python3.7/dist-packages (from featuretools) (2021.11.2)\n",
            "Requirement already satisfied: woodwork>=0.8.1 in /usr/local/lib/python3.7/dist-packages (from featuretools) (0.9.1)\n",
            "Requirement already satisfied: pyyaml>=5.4 in /usr/local/lib/python3.7/dist-packages (from featuretools) (6.0)\n",
            "Requirement already satisfied: psutil>=5.6.6 in /usr/local/lib/python3.7/dist-packages (from featuretools) (5.8.0)\n",
            "Requirement already satisfied: click>=7.0.0 in /usr/local/lib/python3.7/dist-packages (from featuretools) (7.1.2)\n",
            "Requirement already satisfied: fsspec>=0.6.0 in /usr/local/lib/python3.7/dist-packages (from dask[dataframe]>=2021.10.0->featuretools) (2021.11.0)\n",
            "Requirement already satisfied: partd>=0.3.10 in /usr/local/lib/python3.7/dist-packages (from dask[dataframe]>=2021.10.0->featuretools) (1.2.0)\n",
            "Requirement already satisfied: packaging>=20.0 in /usr/local/lib/python3.7/dist-packages (from dask[dataframe]>=2021.10.0->featuretools) (21.3)\n",
            "Requirement already satisfied: toolz>=0.8.2 in /usr/local/lib/python3.7/dist-packages (from dask[dataframe]>=2021.10.0->featuretools) (0.11.2)\n",
            "Requirement already satisfied: msgpack>=0.6.0 in /usr/local/lib/python3.7/dist-packages (from distributed>=2021.10.0->featuretools) (1.0.2)\n",
            "Requirement already satisfied: setuptools in /usr/local/lib/python3.7/dist-packages (from distributed>=2021.10.0->featuretools) (57.4.0)\n",
            "Requirement already satisfied: zict>=0.1.3 in /usr/local/lib/python3.7/dist-packages (from distributed>=2021.10.0->featuretools) (2.0.0)\n",
            "Requirement already satisfied: jinja2 in /usr/local/lib/python3.7/dist-packages (from distributed>=2021.10.0->featuretools) (2.11.3)\n",
            "Requirement already satisfied: tblib>=1.6.0 in /usr/local/lib/python3.7/dist-packages (from distributed>=2021.10.0->featuretools) (1.7.0)\n",
            "Requirement already satisfied: tornado>=5 in /usr/local/lib/python3.7/dist-packages (from distributed>=2021.10.0->featuretools) (5.1.1)\n",
            "Requirement already satisfied: sortedcontainers!=2.0.0,!=2.0.1 in /usr/local/lib/python3.7/dist-packages (from distributed>=2021.10.0->featuretools) (2.4.0)\n",
            "Requirement already satisfied: pyparsing!=3.0.5,>=2.0.2 in /usr/local/lib/python3.7/dist-packages (from packaging>=20.0->dask[dataframe]>=2021.10.0->featuretools) (3.0.6)\n",
            "Requirement already satisfied: locket in /usr/local/lib/python3.7/dist-packages (from partd>=0.3.10->dask[dataframe]>=2021.10.0->featuretools) (0.2.1)\n",
            "Requirement already satisfied: heapdict in /usr/local/lib/python3.7/dist-packages (from zict>=0.1.3->distributed>=2021.10.0->featuretools) (1.0.1)\n",
            "Requirement already satisfied: pint in /usr/local/lib/python3.7/dist-packages (from AutoFeat) (0.18)\n",
            "Requirement already satisfied: future in /usr/local/lib/python3.7/dist-packages (from AutoFeat) (0.16.0)\n",
            "Requirement already satisfied: sympy>=1.7.1 in /usr/local/lib/python3.7/dist-packages (from AutoFeat) (1.7.1)\n",
            "Requirement already satisfied: numba in /usr/local/lib/python3.7/dist-packages (from AutoFeat) (0.51.2)\n",
            "Requirement already satisfied: mpmath>=0.19 in /usr/local/lib/python3.7/dist-packages (from sympy>=1.7.1->AutoFeat) (1.2.1)\n",
            "Requirement already satisfied: MarkupSafe>=0.23 in /usr/local/lib/python3.7/dist-packages (from jinja2->distributed>=2021.10.0->featuretools) (2.0.1)\n",
            "Requirement already satisfied: llvmlite<0.35,>=0.34.0.dev0 in /usr/local/lib/python3.7/dist-packages (from numba->AutoFeat) (0.34.0)\n",
            "Requirement already satisfied: importlib-metadata in /usr/local/lib/python3.7/dist-packages (from pint->AutoFeat) (4.8.2)\n",
            "Requirement already satisfied: typing-extensions>=3.6.4 in /usr/local/lib/python3.7/dist-packages (from importlib-metadata->pint->AutoFeat) (3.10.0.2)\n",
            "Requirement already satisfied: zipp>=0.5 in /usr/local/lib/python3.7/dist-packages (from importlib-metadata->pint->AutoFeat) (3.6.0)\n"
          ]
        }
      ]
    },
    {
      "cell_type": "markdown",
      "metadata": {
        "id": "b0Vqn1bgsY_T"
      },
      "source": [
        "### Imports"
      ]
    },
    {
      "cell_type": "code",
      "metadata": {
        "id": "zDXozFMUjZRy"
      },
      "source": [
        "import pandas as pd\n",
        "import numpy as np\n",
        "import matplotlib.pyplot as plt\n",
        "import seaborn as sns\n",
        "from cloudant import Cloudant\n",
        "from tpot import TPOTRegressor\n",
        "from sklearn.pipeline import Pipeline\n",
        "from sklearn.preprocessing import MinMaxScaler\n",
        "from sklearn.model_selection import train_test_split\n",
        "from sklearn.linear_model import LinearRegression\n",
        "from sklearn.metrics import r2_score, mean_absolute_error\n",
        "\n",
        "sns.set()"
      ],
      "execution_count": null,
      "outputs": []
    },
    {
      "cell_type": "code",
      "metadata": {
        "colab": {
          "base_uri": "https://localhost:8080/"
        },
        "id": "hmcTETENDGTv",
        "outputId": "0f216e7f-5475-4568-f17b-6d88a6192978"
      },
      "source": [
        "u = '<user>'\n",
        "p = '<senha>'\n",
        "a = '<user>'\n",
        "\n",
        "client = Cloudant(u,p, account=a, connect=True, auto_renev=True)\n",
        "\n",
        "db = client['<nome_db>']\n",
        "\n",
        "response = db.all_docs(include_docs=True)\n",
        "\n",
        "docs=[]\n",
        "for r in response[\"rows\"]:\n",
        "  docs.append(r[\"doc\"])\n",
        "\n",
        "df = pd.DataFrame(data=docs)\n",
        "df.shape"
      ],
      "execution_count": null,
      "outputs": [
        {
          "output_type": "execute_result",
          "data": {
            "text/plain": [
              "(9976, 9)"
            ]
          },
          "metadata": {},
          "execution_count": 166
        }
      ]
    },
    {
      "cell_type": "code",
      "metadata": {
        "colab": {
          "base_uri": "https://localhost:8080/",
          "height": 455
        },
        "id": "Al_mOt8OZN18",
        "outputId": "cf0e7d4c-c624-461b-8d1a-557a5bc0459c"
      },
      "source": [
        "df = df.iloc[:,2:].drop_duplicates().sort_values(\"ID\").set_index(\"ID\")\n",
        "df"
      ],
      "execution_count": null,
      "outputs": [
        {
          "output_type": "execute_result",
          "data": {
            "text/html": [
              "<div>\n",
              "<style scoped>\n",
              "    .dataframe tbody tr th:only-of-type {\n",
              "        vertical-align: middle;\n",
              "    }\n",
              "\n",
              "    .dataframe tbody tr th {\n",
              "        vertical-align: top;\n",
              "    }\n",
              "\n",
              "    .dataframe thead th {\n",
              "        text-align: right;\n",
              "    }\n",
              "</style>\n",
              "<table border=\"1\" class=\"dataframe\">\n",
              "  <thead>\n",
              "    <tr style=\"text-align: right;\">\n",
              "      <th></th>\n",
              "      <th>ILLUM</th>\n",
              "      <th>HUMID</th>\n",
              "      <th>CO2</th>\n",
              "      <th>SOUND</th>\n",
              "      <th>TEMP</th>\n",
              "      <th>RYTHM</th>\n",
              "    </tr>\n",
              "    <tr>\n",
              "      <th>ID</th>\n",
              "      <th></th>\n",
              "      <th></th>\n",
              "      <th></th>\n",
              "      <th></th>\n",
              "      <th></th>\n",
              "      <th></th>\n",
              "    </tr>\n",
              "  </thead>\n",
              "  <tbody>\n",
              "    <tr>\n",
              "      <th>1</th>\n",
              "      <td>467.9</td>\n",
              "      <td>65.59</td>\n",
              "      <td>486.1</td>\n",
              "      <td>41.06</td>\n",
              "      <td>23.27</td>\n",
              "      <td>92.39</td>\n",
              "    </tr>\n",
              "    <tr>\n",
              "      <th>2</th>\n",
              "      <td>387.14</td>\n",
              "      <td>70.23</td>\n",
              "      <td>501.81</td>\n",
              "      <td>25.93</td>\n",
              "      <td>18.77</td>\n",
              "      <td>85.17</td>\n",
              "    </tr>\n",
              "    <tr>\n",
              "      <th>3</th>\n",
              "      <td>339.75</td>\n",
              "      <td>74.72</td>\n",
              "      <td>535.88</td>\n",
              "      <td>30.5</td>\n",
              "      <td>19.41</td>\n",
              "      <td>80.76</td>\n",
              "    </tr>\n",
              "    <tr>\n",
              "      <th>4</th>\n",
              "      <td>390.19</td>\n",
              "      <td>63.83</td>\n",
              "      <td>422.76</td>\n",
              "      <td>24.18</td>\n",
              "      <td>17.41</td>\n",
              "      <td>63.55</td>\n",
              "    </tr>\n",
              "    <tr>\n",
              "      <th>5</th>\n",
              "      <td>454.11</td>\n",
              "      <td>70.64</td>\n",
              "      <td>619.85</td>\n",
              "      <td>16.5</td>\n",
              "      <td>20.31</td>\n",
              "      <td>83.19</td>\n",
              "    </tr>\n",
              "    <tr>\n",
              "      <th>...</th>\n",
              "      <td>...</td>\n",
              "      <td>...</td>\n",
              "      <td>...</td>\n",
              "      <td>...</td>\n",
              "      <td>...</td>\n",
              "      <td>...</td>\n",
              "    </tr>\n",
              "    <tr>\n",
              "      <th>3196</th>\n",
              "      <td>549.06</td>\n",
              "      <td>67.97</td>\n",
              "      <td>553.7</td>\n",
              "      <td>27.4</td>\n",
              "      <td>16.49</td>\n",
              "      <td>76.93</td>\n",
              "    </tr>\n",
              "    <tr>\n",
              "      <th>3197</th>\n",
              "      <td>408.51</td>\n",
              "      <td>63.25</td>\n",
              "      <td>516.07</td>\n",
              "      <td>28.51</td>\n",
              "      <td>20.22</td>\n",
              "      <td>84.96</td>\n",
              "    </tr>\n",
              "    <tr>\n",
              "      <th>3198</th>\n",
              "      <td>459.01</td>\n",
              "      <td>56.65</td>\n",
              "      <td>453.37</td>\n",
              "      <td>25.81</td>\n",
              "      <td>19.04</td>\n",
              "      <td>83.65</td>\n",
              "    </tr>\n",
              "    <tr>\n",
              "      <th>3199</th>\n",
              "      <td>545.56</td>\n",
              "      <td>68.65</td>\n",
              "      <td>487.74</td>\n",
              "      <td>26.41</td>\n",
              "      <td>21.87</td>\n",
              "      <td>84.38</td>\n",
              "    </tr>\n",
              "    <tr>\n",
              "      <th>3200</th>\n",
              "      <td>376.28</td>\n",
              "      <td>69.58</td>\n",
              "      <td>487.71</td>\n",
              "      <td>30.38</td>\n",
              "      <td>18.83</td>\n",
              "      <td>76.43</td>\n",
              "    </tr>\n",
              "  </tbody>\n",
              "</table>\n",
              "<p>3200 rows × 6 columns</p>\n",
              "</div>"
            ],
            "text/plain": [
              "       ILLUM  HUMID     CO2  SOUND   TEMP  RYTHM\n",
              "ID                                              \n",
              "1      467.9  65.59   486.1  41.06  23.27  92.39\n",
              "2     387.14  70.23  501.81  25.93  18.77  85.17\n",
              "3     339.75  74.72  535.88   30.5  19.41  80.76\n",
              "4     390.19  63.83  422.76  24.18  17.41  63.55\n",
              "5     454.11  70.64  619.85   16.5  20.31  83.19\n",
              "...      ...    ...     ...    ...    ...    ...\n",
              "3196  549.06  67.97   553.7   27.4  16.49  76.93\n",
              "3197  408.51  63.25  516.07  28.51  20.22  84.96\n",
              "3198  459.01  56.65  453.37  25.81  19.04  83.65\n",
              "3199  545.56  68.65  487.74  26.41  21.87  84.38\n",
              "3200  376.28  69.58  487.71  30.38  18.83  76.43\n",
              "\n",
              "[3200 rows x 6 columns]"
            ]
          },
          "metadata": {},
          "execution_count": 167
        }
      ]
    },
    {
      "cell_type": "code",
      "metadata": {
        "colab": {
          "base_uri": "https://localhost:8080/"
        },
        "id": "Vn5r7V-aFi3Y",
        "outputId": "692dbb57-3151-4369-960c-5cbca8aafdd3"
      },
      "source": [
        "df.info()"
      ],
      "execution_count": null,
      "outputs": [
        {
          "output_type": "stream",
          "name": "stdout",
          "text": [
            "<class 'pandas.core.frame.DataFrame'>\n",
            "Int64Index: 3200 entries, 1 to 3200\n",
            "Data columns (total 6 columns):\n",
            " #   Column  Non-Null Count  Dtype \n",
            "---  ------  --------------  ----- \n",
            " 0   ILLUM   3200 non-null   object\n",
            " 1   HUMID   3200 non-null   object\n",
            " 2   CO2     3200 non-null   object\n",
            " 3   SOUND   3200 non-null   object\n",
            " 4   TEMP    3200 non-null   object\n",
            " 5   RYTHM   3200 non-null   object\n",
            "dtypes: object(6)\n",
            "memory usage: 175.0+ KB\n"
          ]
        }
      ]
    },
    {
      "cell_type": "code",
      "metadata": {
        "id": "Cq2MMs1wOZiu"
      },
      "source": [
        "df = df.astype(float)"
      ],
      "execution_count": null,
      "outputs": []
    },
    {
      "cell_type": "markdown",
      "metadata": {
        "id": "QL8QllarsgXy"
      },
      "source": [
        "### Analisys"
      ]
    },
    {
      "cell_type": "code",
      "metadata": {
        "colab": {
          "base_uri": "https://localhost:8080/",
          "height": 272
        },
        "id": "ePStSrSeOVyh",
        "outputId": "bc46aa9d-df67-4193-fa72-cac8a54b7e59"
      },
      "source": [
        "sns.heatmap(df.corr(), annot=True, fmt=\".2f\");"
      ],
      "execution_count": null,
      "outputs": [
        {
          "output_type": "display_data",
          "data": {
            "image/png": "[encoded data removed]",
            "text/plain": [
              "<Figure size 432x288 with 2 Axes>"
            ]
          },
          "metadata": {}
        }
      ]
    },
    {
      "cell_type": "code",
      "metadata": {
        "colab": {
          "base_uri": "https://localhost:8080/",
          "height": 300
        },
        "id": "VPlMSiGcbFvv",
        "outputId": "3afbf35f-9992-4933-d313-c7f842137d6c"
      },
      "source": [
        "df.describe()"
      ],
      "execution_count": null,
      "outputs": [
        {
          "output_type": "execute_result",
          "data": {
            "text/html": [
              "<div>\n",
              "<style scoped>\n",
              "    .dataframe tbody tr th:only-of-type {\n",
              "        vertical-align: middle;\n",
              "    }\n",
              "\n",
              "    .dataframe tbody tr th {\n",
              "        vertical-align: top;\n",
              "    }\n",
              "\n",
              "    .dataframe thead th {\n",
              "        text-align: right;\n",
              "    }\n",
              "</style>\n",
              "<table border=\"1\" class=\"dataframe\">\n",
              "  <thead>\n",
              "    <tr style=\"text-align: right;\">\n",
              "      <th></th>\n",
              "      <th>ILLUM</th>\n",
              "      <th>HUMID</th>\n",
              "      <th>CO2</th>\n",
              "      <th>SOUND</th>\n",
              "      <th>TEMP</th>\n",
              "      <th>RYTHM</th>\n",
              "    </tr>\n",
              "  </thead>\n",
              "  <tbody>\n",
              "    <tr>\n",
              "      <th>count</th>\n",
              "      <td>3200.000000</td>\n",
              "      <td>3200.000000</td>\n",
              "      <td>3200.000000</td>\n",
              "      <td>3200.000000</td>\n",
              "      <td>3200.000000</td>\n",
              "      <td>3200.000000</td>\n",
              "    </tr>\n",
              "    <tr>\n",
              "      <th>mean</th>\n",
              "      <td>439.163412</td>\n",
              "      <td>67.086106</td>\n",
              "      <td>501.620666</td>\n",
              "      <td>29.840194</td>\n",
              "      <td>20.042578</td>\n",
              "      <td>80.156616</td>\n",
              "    </tr>\n",
              "    <tr>\n",
              "      <th>std</th>\n",
              "      <td>89.915142</td>\n",
              "      <td>4.776214</td>\n",
              "      <td>42.951183</td>\n",
              "      <td>6.158710</td>\n",
              "      <td>1.648479</td>\n",
              "      <td>6.755854</td>\n",
              "    </tr>\n",
              "    <tr>\n",
              "      <th>min</th>\n",
              "      <td>145.480000</td>\n",
              "      <td>51.860000</td>\n",
              "      <td>352.820000</td>\n",
              "      <td>8.060000</td>\n",
              "      <td>14.760000</td>\n",
              "      <td>55.370000</td>\n",
              "    </tr>\n",
              "    <tr>\n",
              "      <th>25%</th>\n",
              "      <td>377.060000</td>\n",
              "      <td>63.770000</td>\n",
              "      <td>471.427500</td>\n",
              "      <td>25.550000</td>\n",
              "      <td>18.920000</td>\n",
              "      <td>75.657500</td>\n",
              "    </tr>\n",
              "    <tr>\n",
              "      <th>50%</th>\n",
              "      <td>437.375000</td>\n",
              "      <td>66.935000</td>\n",
              "      <td>502.350000</td>\n",
              "      <td>29.885000</td>\n",
              "      <td>20.050000</td>\n",
              "      <td>80.220000</td>\n",
              "    </tr>\n",
              "    <tr>\n",
              "      <th>75%</th>\n",
              "      <td>500.792500</td>\n",
              "      <td>70.330000</td>\n",
              "      <td>530.142500</td>\n",
              "      <td>33.932500</td>\n",
              "      <td>21.180000</td>\n",
              "      <td>84.660000</td>\n",
              "    </tr>\n",
              "    <tr>\n",
              "      <th>max</th>\n",
              "      <td>775.140000</td>\n",
              "      <td>83.900000</td>\n",
              "      <td>672.380000</td>\n",
              "      <td>53.780000</td>\n",
              "      <td>26.290000</td>\n",
              "      <td>108.900000</td>\n",
              "    </tr>\n",
              "  </tbody>\n",
              "</table>\n",
              "</div>"
            ],
            "text/plain": [
              "             ILLUM        HUMID  ...         TEMP        RYTHM\n",
              "count  3200.000000  3200.000000  ...  3200.000000  3200.000000\n",
              "mean    439.163412    67.086106  ...    20.042578    80.156616\n",
              "std      89.915142     4.776214  ...     1.648479     6.755854\n",
              "min     145.480000    51.860000  ...    14.760000    55.370000\n",
              "25%     377.060000    63.770000  ...    18.920000    75.657500\n",
              "50%     437.375000    66.935000  ...    20.050000    80.220000\n",
              "75%     500.792500    70.330000  ...    21.180000    84.660000\n",
              "max     775.140000    83.900000  ...    26.290000   108.900000\n",
              "\n",
              "[8 rows x 6 columns]"
            ]
          },
          "metadata": {},
          "execution_count": 27
        }
      ]
    },
    {
      "cell_type": "code",
      "metadata": {
        "colab": {
          "base_uri": "https://localhost:8080/"
        },
        "id": "i_gDXCfLQ_5_",
        "outputId": "efd21dd0-3c29-4e76-d8d9-dd687cfd8d7c"
      },
      "source": [
        "df.RYTHM.value_counts()"
      ],
      "execution_count": null,
      "outputs": [
        {
          "output_type": "execute_result",
          "data": {
            "text/plain": [
              "82.43    7\n",
              "76.21    7\n",
              "77.45    7\n",
              "78.44    6\n",
              "81.94    6\n",
              "        ..\n",
              "73.99    1\n",
              "89.53    1\n",
              "79.41    1\n",
              "92.94    1\n",
              "76.93    1\n",
              "Name: RYTHM, Length: 1828, dtype: int64"
            ]
          },
          "metadata": {},
          "execution_count": 28
        }
      ]
    },
    {
      "cell_type": "markdown",
      "metadata": {
        "id": "yAEFqbqCqhK1"
      },
      "source": [
        "### Treatment"
      ]
    },
    {
      "cell_type": "code",
      "metadata": {
        "colab": {
          "base_uri": "https://localhost:8080/",
          "height": 424
        },
        "id": "vBklVUwvZsUO",
        "outputId": "5a5a0eed-3f7d-4a42-9e00-4e52c0f7c6a3"
      },
      "source": [
        "df_group = df.groupby(by=\"RYTHM\").mean()\n",
        "df_group[\"RYTHM\"] = df_group.index\n",
        "df_group.index = range(0, 1828)\n",
        "df_group"
      ],
      "execution_count": null,
      "outputs": [
        {
          "output_type": "execute_result",
          "data": {
            "text/html": [
              "<div>\n",
              "<style scoped>\n",
              "    .dataframe tbody tr th:only-of-type {\n",
              "        vertical-align: middle;\n",
              "    }\n",
              "\n",
              "    .dataframe tbody tr th {\n",
              "        vertical-align: top;\n",
              "    }\n",
              "\n",
              "    .dataframe thead th {\n",
              "        text-align: right;\n",
              "    }\n",
              "</style>\n",
              "<table border=\"1\" class=\"dataframe\">\n",
              "  <thead>\n",
              "    <tr style=\"text-align: right;\">\n",
              "      <th></th>\n",
              "      <th>ILLUM</th>\n",
              "      <th>HUMID</th>\n",
              "      <th>CO2</th>\n",
              "      <th>SOUND</th>\n",
              "      <th>TEMP</th>\n",
              "      <th>RYTHM</th>\n",
              "    </tr>\n",
              "  </thead>\n",
              "  <tbody>\n",
              "    <tr>\n",
              "      <th>0</th>\n",
              "      <td>266.22</td>\n",
              "      <td>70.48</td>\n",
              "      <td>545.82</td>\n",
              "      <td>16.66</td>\n",
              "      <td>17.04</td>\n",
              "      <td>55.37</td>\n",
              "    </tr>\n",
              "    <tr>\n",
              "      <th>1</th>\n",
              "      <td>468.44</td>\n",
              "      <td>67.44</td>\n",
              "      <td>444.02</td>\n",
              "      <td>23.17</td>\n",
              "      <td>18.51</td>\n",
              "      <td>57.51</td>\n",
              "    </tr>\n",
              "    <tr>\n",
              "      <th>2</th>\n",
              "      <td>348.18</td>\n",
              "      <td>69.72</td>\n",
              "      <td>505.15</td>\n",
              "      <td>27.06</td>\n",
              "      <td>19.97</td>\n",
              "      <td>59.22</td>\n",
              "    </tr>\n",
              "    <tr>\n",
              "      <th>3</th>\n",
              "      <td>517.15</td>\n",
              "      <td>74.85</td>\n",
              "      <td>438.27</td>\n",
              "      <td>22.63</td>\n",
              "      <td>20.52</td>\n",
              "      <td>59.29</td>\n",
              "    </tr>\n",
              "    <tr>\n",
              "      <th>4</th>\n",
              "      <td>474.24</td>\n",
              "      <td>68.51</td>\n",
              "      <td>511.63</td>\n",
              "      <td>27.99</td>\n",
              "      <td>20.75</td>\n",
              "      <td>60.49</td>\n",
              "    </tr>\n",
              "    <tr>\n",
              "      <th>...</th>\n",
              "      <td>...</td>\n",
              "      <td>...</td>\n",
              "      <td>...</td>\n",
              "      <td>...</td>\n",
              "      <td>...</td>\n",
              "      <td>...</td>\n",
              "    </tr>\n",
              "    <tr>\n",
              "      <th>1823</th>\n",
              "      <td>311.66</td>\n",
              "      <td>67.08</td>\n",
              "      <td>551.81</td>\n",
              "      <td>22.49</td>\n",
              "      <td>23.98</td>\n",
              "      <td>100.91</td>\n",
              "    </tr>\n",
              "    <tr>\n",
              "      <th>1824</th>\n",
              "      <td>354.43</td>\n",
              "      <td>62.55</td>\n",
              "      <td>560.09</td>\n",
              "      <td>43.86</td>\n",
              "      <td>22.66</td>\n",
              "      <td>100.94</td>\n",
              "    </tr>\n",
              "    <tr>\n",
              "      <th>1825</th>\n",
              "      <td>534.35</td>\n",
              "      <td>66.76</td>\n",
              "      <td>537.34</td>\n",
              "      <td>41.13</td>\n",
              "      <td>20.10</td>\n",
              "      <td>102.45</td>\n",
              "    </tr>\n",
              "    <tr>\n",
              "      <th>1826</th>\n",
              "      <td>568.72</td>\n",
              "      <td>67.74</td>\n",
              "      <td>569.78</td>\n",
              "      <td>31.73</td>\n",
              "      <td>19.50</td>\n",
              "      <td>105.92</td>\n",
              "    </tr>\n",
              "    <tr>\n",
              "      <th>1827</th>\n",
              "      <td>482.24</td>\n",
              "      <td>65.49</td>\n",
              "      <td>490.44</td>\n",
              "      <td>44.70</td>\n",
              "      <td>19.78</td>\n",
              "      <td>108.90</td>\n",
              "    </tr>\n",
              "  </tbody>\n",
              "</table>\n",
              "<p>1828 rows × 6 columns</p>\n",
              "</div>"
            ],
            "text/plain": [
              "       ILLUM  HUMID     CO2  SOUND   TEMP   RYTHM\n",
              "0     266.22  70.48  545.82  16.66  17.04   55.37\n",
              "1     468.44  67.44  444.02  23.17  18.51   57.51\n",
              "2     348.18  69.72  505.15  27.06  19.97   59.22\n",
              "3     517.15  74.85  438.27  22.63  20.52   59.29\n",
              "4     474.24  68.51  511.63  27.99  20.75   60.49\n",
              "...      ...    ...     ...    ...    ...     ...\n",
              "1823  311.66  67.08  551.81  22.49  23.98  100.91\n",
              "1824  354.43  62.55  560.09  43.86  22.66  100.94\n",
              "1825  534.35  66.76  537.34  41.13  20.10  102.45\n",
              "1826  568.72  67.74  569.78  31.73  19.50  105.92\n",
              "1827  482.24  65.49  490.44  44.70  19.78  108.90\n",
              "\n",
              "[1828 rows x 6 columns]"
            ]
          },
          "metadata": {},
          "execution_count": 107
        }
      ]
    },
    {
      "cell_type": "code",
      "metadata": {
        "id": "5oTTQx0LbaMl"
      },
      "source": [
        "# df_group['mean'] = df_group[[\"ILLUM\", \"HUMID\", \"CO2\", \"SOUND\", \"TEMP\"]].mean(axis=1)"
      ],
      "execution_count": null,
      "outputs": []
    },
    {
      "cell_type": "code",
      "metadata": {
        "colab": {
          "base_uri": "https://localhost:8080/"
        },
        "id": "RM1JPdxrJyAA",
        "outputId": "363d0a06-fb0d-4e54-925d-78ab23fdae9f"
      },
      "source": [
        "X = df_group[[\"ILLUM\", \"HUMID\", \"CO2\", \"SOUND\", \"TEMP\"]]\n",
        "y = df_group[\"RYTHM\"]\n",
        "\n",
        "X_train, X_test, y_train, y_test = train_test_split(X, y, train_size=.7, random_state=42)\n",
        "X_train.shape, X_test.shape, y_train.shape, y_test.shape\n",
        "\n",
        "predict = LinearRegression().fit(X_train, y_train).predict(X_test)\n",
        "print(f'r2: {r2_score(y_test, np.round(predict, 2)):.4f} | mae: {mean_absolute_error(y_test, predict):.4f}')"
      ],
      "execution_count": null,
      "outputs": [
        {
          "output_type": "stream",
          "name": "stdout",
          "text": [
            "r2: 0.3157 | mae: 5.0785\n"
          ]
        }
      ]
    },
    {
      "cell_type": "code",
      "metadata": {
        "colab": {
          "base_uri": "https://localhost:8080/",
          "height": 437
        },
        "id": "AeVMNyJOKFsd",
        "outputId": "af86f602-3852-44bc-ad00-b12fdb288e63"
      },
      "source": [
        "sns.jointplot(x=y_test, y=predict, kind=\"reg\");"
      ],
      "execution_count": null,
      "outputs": [
        {
          "output_type": "display_data",
          "data": {
            "image/png": "[encoded data removed]",
            "text/plain": [
              "<Figure size 432x432 with 3 Axes>"
            ]
          },
          "metadata": {}
        }
      ]
    },
    {
      "cell_type": "code",
      "metadata": {
        "colab": {
          "base_uri": "https://localhost:8080/"
        },
        "id": "LZn-vF_MZTD-",
        "outputId": "a8eadc3d-c996-4477-c039-a92f3df724bf"
      },
      "source": [
        "from sklearn.model_selection import cross_validate\n",
        "\n",
        "scores = cross_validate(LinearRegression(), X, y, cv=10,\n",
        "                        scoring='r2', return_train_score=True)\n",
        "scores[\"train_score\"].mean()"
      ],
      "execution_count": null,
      "outputs": [
        {
          "output_type": "execute_result",
          "data": {
            "text/plain": [
              "0.3083997369346116"
            ]
          },
          "metadata": {},
          "execution_count": 142
        }
      ]
    },
    {
      "cell_type": "code",
      "metadata": {
        "colab": {
          "base_uri": "https://localhost:8080/"
        },
        "id": "Tg3jyCDhD9oR",
        "outputId": "a5553b59-7b56-4fe2-c34a-2bdbdd088866"
      },
      "source": [
        "pipe = Pipeline(steps=[(\"scaler\", MinMaxScaler())])\n",
        "df_group = pipe.fit_transform(df_group)\n",
        "df_group"
      ],
      "execution_count": null,
      "outputs": [
        {
          "output_type": "execute_result",
          "data": {
            "text/plain": [
              "array([[0.20662628, 0.62399464, 0.66439464, 0.18260145, 0.19270833,\n",
              "        0.        ],\n",
              "       [0.55269193, 0.52211796, 0.31395229, 0.3635353 , 0.34583333,\n",
              "        0.03997758],\n",
              "       [0.34688709, 0.59852547, 0.52438982, 0.47165092, 0.49791667,\n",
              "        0.07192229],\n",
              "       ...,\n",
              "       [0.66548585, 0.49932976, 0.63520259, 0.8627015 , 0.51145833,\n",
              "        0.87950682],\n",
              "       [0.72430434, 0.53217158, 0.74687597, 0.60144525, 0.44895833,\n",
              "        0.94433028],\n",
              "       [0.57630831, 0.45676944, 0.47375125, 0.96192329, 0.478125  ,\n",
              "        1.        ]])"
            ]
          },
          "metadata": {},
          "execution_count": 82
        }
      ]
    },
    {
      "cell_type": "code",
      "metadata": {
        "colab": {
          "base_uri": "https://localhost:8080/"
        },
        "id": "XqDx_M_Tu78A",
        "outputId": "d05bfed7-b153-4cc1-e984-4913907cb28a"
      },
      "source": [
        "X = df[[\"ILLUM\", \"HUMID\", \"CO2\", \"SOUND\", \"TEMP\"]]\n",
        "y = df[\"RYTHM\"]\n",
        "\n",
        "X_train, X_test, y_train, y_test = train_test_split(X, y, train_size=.9, random_state=42)\n",
        "X_train.shape, X_test.shape, y_train.shape, y_test.shape"
      ],
      "execution_count": null,
      "outputs": [
        {
          "output_type": "execute_result",
          "data": {
            "text/plain": [
              "((2880, 5), (320, 5), (2880,), (320,))"
            ]
          },
          "metadata": {},
          "execution_count": 148
        }
      ]
    },
    {
      "cell_type": "markdown",
      "metadata": {
        "id": "iswEg4M_slND"
      },
      "source": [
        "### Models"
      ]
    },
    {
      "cell_type": "code",
      "metadata": {
        "colab": {
          "base_uri": "https://localhost:8080/"
        },
        "id": "d8X-UqW__ILV",
        "outputId": "3460b4a8-4477-40b9-cf60-b65998f8cc88"
      },
      "source": [
        "model = LinearRegression()\n",
        "model.fit(X_train, y_train)\n",
        "predict = model.predict(X_test)\n",
        "print(f'r2: {r2_score(y_test, predict):.4f} | mae: {mean_absolute_error(y_test, predict):.4f}')"
      ],
      "execution_count": null,
      "outputs": [
        {
          "output_type": "stream",
          "name": "stdout",
          "text": [
            "r2: 0.2079 | mae: 4.8028\n"
          ]
        }
      ]
    },
    {
      "cell_type": "markdown",
      "metadata": {
        "id": "fcxv4-PZ0NCv"
      },
      "source": [
        "#### AutoFeat"
      ]
    },
    {
      "cell_type": "code",
      "metadata": {
        "colab": {
          "base_uri": "https://localhost:8080/"
        },
        "id": "UtW-O4OJl_4S",
        "outputId": "ec407340-2977-4e91-b8c3-bfb0baf276ed"
      },
      "source": [
        "from autofeat import AutoFeatRegressor\n",
        "\n",
        "X = df_group[:,:-1]\n",
        "y = df_group[:,-1]\n",
        "X_train, X_test, y_train, y_test = train_test_split(X, y, test_size=.7, random_state=42)\n",
        "model = AutoFeatRegressor()\n",
        "df_feat = model.fit_transform(X, y)\n",
        "pred = model.predict(X_test)\n",
        "print(\"Final R^2: %.4f\" % model.score(df_feat, y))"
      ],
      "execution_count": null,
      "outputs": [
        {
          "output_type": "stream",
          "name": "stdout",
          "text": [
            "Final R^2: 0.3131\n"
          ]
        }
      ]
    },
    {
      "cell_type": "code",
      "metadata": {
        "colab": {
          "base_uri": "https://localhost:8080/",
          "height": 444
        },
        "id": "cgJMGakKp3Dt",
        "outputId": "58ab1d5d-83d0-4406-ac92-79073658119b"
      },
      "source": [
        "df"
      ],
      "execution_count": null,
      "outputs": [
        {
          "output_type": "execute_result",
          "data": {
            "text/html": [
              "<div>\n",
              "<style scoped>\n",
              "    .dataframe tbody tr th:only-of-type {\n",
              "        vertical-align: middle;\n",
              "    }\n",
              "\n",
              "    .dataframe tbody tr th {\n",
              "        vertical-align: top;\n",
              "    }\n",
              "\n",
              "    .dataframe thead th {\n",
              "        text-align: right;\n",
              "    }\n",
              "</style>\n",
              "<table border=\"1\" class=\"dataframe\">\n",
              "  <thead>\n",
              "    <tr style=\"text-align: right;\">\n",
              "      <th></th>\n",
              "      <th>ILLUM</th>\n",
              "      <th>HUMID</th>\n",
              "      <th>CO2</th>\n",
              "      <th>SOUND</th>\n",
              "      <th>TEMP</th>\n",
              "      <th>1/(CO2*TEMP)</th>\n",
              "      <th>CO2**3*ILLUM</th>\n",
              "      <th>SOUND**3*TEMP**3</th>\n",
              "      <th>ILLUM*TEMP**3</th>\n",
              "      <th>1/(CO2*SOUND)</th>\n",
              "      <th>CO2**3*SOUND**3</th>\n",
              "    </tr>\n",
              "  </thead>\n",
              "  <tbody>\n",
              "    <tr>\n",
              "      <th>0</th>\n",
              "      <td>266.22</td>\n",
              "      <td>70.48</td>\n",
              "      <td>545.82</td>\n",
              "      <td>16.66</td>\n",
              "      <td>17.04</td>\n",
              "      <td>0.000108</td>\n",
              "      <td>4.329014e+10</td>\n",
              "      <td>2.287883e+07</td>\n",
              "      <td>1.317193e+06</td>\n",
              "      <td>0.000110</td>\n",
              "      <td>7.519229e+11</td>\n",
              "    </tr>\n",
              "    <tr>\n",
              "      <th>1</th>\n",
              "      <td>468.44</td>\n",
              "      <td>67.44</td>\n",
              "      <td>444.02</td>\n",
              "      <td>23.17</td>\n",
              "      <td>18.51</td>\n",
              "      <td>0.000122</td>\n",
              "      <td>4.100734e+10</td>\n",
              "      <td>7.888553e+07</td>\n",
              "      <td>2.970799e+06</td>\n",
              "      <td>0.000097</td>\n",
              "      <td>1.088894e+12</td>\n",
              "    </tr>\n",
              "    <tr>\n",
              "      <th>2</th>\n",
              "      <td>348.18</td>\n",
              "      <td>69.72</td>\n",
              "      <td>505.15</td>\n",
              "      <td>27.06</td>\n",
              "      <td>19.97</td>\n",
              "      <td>0.000099</td>\n",
              "      <td>4.488124e+10</td>\n",
              "      <td>1.578038e+08</td>\n",
              "      <td>2.772924e+06</td>\n",
              "      <td>0.000073</td>\n",
              "      <td>2.554139e+12</td>\n",
              "    </tr>\n",
              "    <tr>\n",
              "      <th>3</th>\n",
              "      <td>517.15</td>\n",
              "      <td>74.85</td>\n",
              "      <td>438.27</td>\n",
              "      <td>22.63</td>\n",
              "      <td>20.52</td>\n",
              "      <td>0.000111</td>\n",
              "      <td>4.353532e+10</td>\n",
              "      <td>1.001350e+08</td>\n",
              "      <td>4.468365e+06</td>\n",
              "      <td>0.000101</td>\n",
              "      <td>9.756160e+11</td>\n",
              "    </tr>\n",
              "    <tr>\n",
              "      <th>4</th>\n",
              "      <td>474.24</td>\n",
              "      <td>68.51</td>\n",
              "      <td>511.63</td>\n",
              "      <td>27.99</td>\n",
              "      <td>20.75</td>\n",
              "      <td>0.000094</td>\n",
              "      <td>6.351352e+10</td>\n",
              "      <td>1.959129e+08</td>\n",
              "      <td>4.236942e+06</td>\n",
              "      <td>0.000070</td>\n",
              "      <td>2.936816e+12</td>\n",
              "    </tr>\n",
              "    <tr>\n",
              "      <th>...</th>\n",
              "      <td>...</td>\n",
              "      <td>...</td>\n",
              "      <td>...</td>\n",
              "      <td>...</td>\n",
              "      <td>...</td>\n",
              "      <td>...</td>\n",
              "      <td>...</td>\n",
              "      <td>...</td>\n",
              "      <td>...</td>\n",
              "      <td>...</td>\n",
              "      <td>...</td>\n",
              "    </tr>\n",
              "    <tr>\n",
              "      <th>1823</th>\n",
              "      <td>311.66</td>\n",
              "      <td>67.08</td>\n",
              "      <td>551.81</td>\n",
              "      <td>22.49</td>\n",
              "      <td>23.98</td>\n",
              "      <td>0.000076</td>\n",
              "      <td>5.236604e+10</td>\n",
              "      <td>1.568613e+08</td>\n",
              "      <td>4.297626e+06</td>\n",
              "      <td>0.000081</td>\n",
              "      <td>1.911336e+12</td>\n",
              "    </tr>\n",
              "    <tr>\n",
              "      <th>1824</th>\n",
              "      <td>354.43</td>\n",
              "      <td>62.55</td>\n",
              "      <td>560.09</td>\n",
              "      <td>43.86</td>\n",
              "      <td>22.66</td>\n",
              "      <td>0.000079</td>\n",
              "      <td>6.227359e+10</td>\n",
              "      <td>9.817154e+08</td>\n",
              "      <td>4.123920e+06</td>\n",
              "      <td>0.000041</td>\n",
              "      <td>1.482448e+13</td>\n",
              "    </tr>\n",
              "    <tr>\n",
              "      <th>1825</th>\n",
              "      <td>534.35</td>\n",
              "      <td>66.76</td>\n",
              "      <td>537.34</td>\n",
              "      <td>41.13</td>\n",
              "      <td>20.10</td>\n",
              "      <td>0.000093</td>\n",
              "      <td>8.290359e+10</td>\n",
              "      <td>5.650206e+08</td>\n",
              "      <td>4.339243e+06</td>\n",
              "      <td>0.000045</td>\n",
              "      <td>1.079502e+13</td>\n",
              "    </tr>\n",
              "    <tr>\n",
              "      <th>1826</th>\n",
              "      <td>568.72</td>\n",
              "      <td>67.74</td>\n",
              "      <td>569.78</td>\n",
              "      <td>31.73</td>\n",
              "      <td>19.50</td>\n",
              "      <td>0.000090</td>\n",
              "      <td>1.052011e+11</td>\n",
              "      <td>2.368722e+08</td>\n",
              "      <td>4.216988e+06</td>\n",
              "      <td>0.000055</td>\n",
              "      <td>5.909243e+12</td>\n",
              "    </tr>\n",
              "    <tr>\n",
              "      <th>1827</th>\n",
              "      <td>482.24</td>\n",
              "      <td>65.49</td>\n",
              "      <td>490.44</td>\n",
              "      <td>44.70</td>\n",
              "      <td>19.78</td>\n",
              "      <td>0.000103</td>\n",
              "      <td>5.688803e+10</td>\n",
              "      <td>6.911963e+08</td>\n",
              "      <td>3.732004e+06</td>\n",
              "      <td>0.000046</td>\n",
              "      <td>1.053611e+13</td>\n",
              "    </tr>\n",
              "  </tbody>\n",
              "</table>\n",
              "<p>1828 rows × 11 columns</p>\n",
              "</div>"
            ],
            "text/plain": [
              "       ILLUM  HUMID     CO2  ...  ILLUM*TEMP**3  1/(CO2*SOUND)  CO2**3*SOUND**3\n",
              "0     266.22  70.48  545.82  ...   1.317193e+06       0.000110     7.519229e+11\n",
              "1     468.44  67.44  444.02  ...   2.970799e+06       0.000097     1.088894e+12\n",
              "2     348.18  69.72  505.15  ...   2.772924e+06       0.000073     2.554139e+12\n",
              "3     517.15  74.85  438.27  ...   4.468365e+06       0.000101     9.756160e+11\n",
              "4     474.24  68.51  511.63  ...   4.236942e+06       0.000070     2.936816e+12\n",
              "...      ...    ...     ...  ...            ...            ...              ...\n",
              "1823  311.66  67.08  551.81  ...   4.297626e+06       0.000081     1.911336e+12\n",
              "1824  354.43  62.55  560.09  ...   4.123920e+06       0.000041     1.482448e+13\n",
              "1825  534.35  66.76  537.34  ...   4.339243e+06       0.000045     1.079502e+13\n",
              "1826  568.72  67.74  569.78  ...   4.216988e+06       0.000055     5.909243e+12\n",
              "1827  482.24  65.49  490.44  ...   3.732004e+06       0.000046     1.053611e+13\n",
              "\n",
              "[1828 rows x 11 columns]"
            ]
          },
          "metadata": {},
          "execution_count": 159
        }
      ]
    },
    {
      "cell_type": "code",
      "metadata": {
        "colab": {
          "base_uri": "https://localhost:8080/"
        },
        "id": "vOHzz_YPDmNG",
        "outputId": "c3f57bd8-cc10-4425-8f49-3b6efb2e4ca5"
      },
      "source": [
        "model = LinearRegression()\n",
        "model.fit(X_train, y_train)\n",
        "predict = model.predict(X_test)\n",
        "print(f'r2: {r2_score(y_test, predict):.4f} | mae: {mean_absolute_error(y_test, predict):.4f}')"
      ],
      "execution_count": null,
      "outputs": [
        {
          "output_type": "stream",
          "name": "stdout",
          "text": [
            "r2: 0.2344 | mae: 4.8016\n"
          ]
        }
      ]
    },
    {
      "cell_type": "markdown",
      "metadata": {
        "id": "5rbb_8Wt0Ryk"
      },
      "source": [
        "#### Pipelines"
      ]
    },
    {
      "cell_type": "code",
      "metadata": {
        "colab": {
          "base_uri": "https://localhost:8080/"
        },
        "id": "piMCQuUwnZc_",
        "outputId": "0ca04fca-8912-4f97-bcbf-f179f464bee2"
      },
      "source": [
        "pipe = Pipeline(steps=[(\"scaler\", MinMaxScaler()), \n",
        "                       (\"liear_regression\", LinearRegression())\n",
        "                       ])\n",
        "pipe.fit(X_train, y_train)\n",
        "pipe.score(X_test, y_test)"
      ],
      "execution_count": null,
      "outputs": [
        {
          "output_type": "execute_result",
          "data": {
            "text/plain": [
              "0.2343703950250675"
            ]
          },
          "metadata": {},
          "execution_count": 46
        }
      ]
    },
    {
      "cell_type": "code",
      "metadata": {
        "colab": {
          "base_uri": "https://localhost:8080/"
        },
        "id": "qkUKQARGpOIV",
        "outputId": "343a1045-aaaa-4f2a-e320-4a9a3878ed07"
      },
      "source": [
        "pipe = Pipeline(steps=[(\"scaler\", MinMaxScaler())])\n",
        "pipe.fit(X)\n",
        "X = pipe.transform(X)\n",
        "X"
      ],
      "execution_count": null,
      "outputs": [
        {
          "output_type": "execute_result",
          "data": {
            "text/plain": [
              "array([[0.51205412, 0.42852684, 0.41707348, 0.72178478, 0.73807459],\n",
              "       [0.38379443, 0.57334582, 0.46623482, 0.39085739, 0.34778838],\n",
              "       [0.30853159, 0.71348315, 0.57285017, 0.49081365, 0.40329575],\n",
              "       ...,\n",
              "       [0.49793539, 0.14950062, 0.3146514 , 0.38823272, 0.37120555],\n",
              "       [0.63539053, 0.52403246, 0.42220553, 0.40135608, 0.61665221],\n",
              "       [0.36654703, 0.55305868, 0.42211165, 0.48818898, 0.35299219]])"
            ]
          },
          "metadata": {},
          "execution_count": 106
        }
      ]
    },
    {
      "cell_type": "code",
      "metadata": {
        "colab": {
          "base_uri": "https://localhost:8080/"
        },
        "id": "MMrLwBMeCFV8",
        "outputId": "bde5c913-fa91-4afd-de86-d402ab2a1f10"
      },
      "source": [
        "y = pipe.fit_transform(np.array(y).reshape(-1, 1))\n",
        "y"
      ],
      "execution_count": null,
      "outputs": [
        {
          "output_type": "execute_result",
          "data": {
            "text/plain": [
              "array([[0.69157482],\n",
              "       [0.55669718],\n",
              "       [0.47431347],\n",
              "       ...,\n",
              "       [0.52830189],\n",
              "       [0.5419391 ],\n",
              "       [0.39342425]])"
            ]
          },
          "metadata": {},
          "execution_count": 113
        }
      ]
    },
    {
      "cell_type": "code",
      "metadata": {
        "colab": {
          "base_uri": "https://localhost:8080/",
          "height": 437
        },
        "id": "xpdr6FcChaEk",
        "outputId": "9d4d1d29-0c26-4c63-afb2-646245ea2af0"
      },
      "source": [
        "sns.jointplot(x=y_test, y=predict, kind=\"reg\");"
      ],
      "execution_count": null,
      "outputs": [
        {
          "output_type": "display_data",
          "data": {
            "image/png": "[encoded data removed]",
            "text/plain": [
              "<Figure size 432x432 with 3 Axes>"
            ]
          },
          "metadata": {}
        }
      ]
    },
    {
      "cell_type": "markdown",
      "metadata": {
        "id": "XgPwxvU-0bm4"
      },
      "source": [
        "#### Others"
      ]
    },
    {
      "cell_type": "code",
      "metadata": {
        "colab": {
          "base_uri": "https://localhost:8080/"
        },
        "id": "tkXd3d2N3LmA",
        "outputId": "35ae1de9-534b-42bf-8e21-4b9ac8369d92"
      },
      "source": [
        "from sklearn.tree import DecisionTreeRegressor\n",
        "\n",
        "model = DecisionTreeRegressor(random_state=42)\n",
        "model.fit(X_train, y_train)\n",
        "predict = model.predict(X_test)\n",
        "print(f'r2: {r2_score(y_test, predict):.4f} | mae: {mean_absolute_error(y_test, predict):.4f}')"
      ],
      "execution_count": null,
      "outputs": [
        {
          "output_type": "stream",
          "name": "stdout",
          "text": [
            "r2: -0.5624 | mae: 7.4058\n"
          ]
        }
      ]
    },
    {
      "cell_type": "code",
      "metadata": {
        "colab": {
          "base_uri": "https://localhost:8080/",
          "height": 437
        },
        "id": "ql5f4oe9e57x",
        "outputId": "e9e16c0b-b02e-4a34-e78e-bd21ac961738"
      },
      "source": [
        "sns.jointplot(x=y_test, y=predict, kind=\"reg\");"
      ],
      "execution_count": null,
      "outputs": [
        {
          "output_type": "display_data",
          "data": {
            "image/png": "[encoded data removed]",
            "text/plain": [
              "<Figure size 432x432 with 3 Axes>"
            ]
          },
          "metadata": {}
        }
      ]
    },
    {
      "cell_type": "code",
      "metadata": {
        "colab": {
          "base_uri": "https://localhost:8080/"
        },
        "id": "Jfb8aUEw0cM9",
        "outputId": "f2d8aeb1-7c94-4b3a-b8ad-c1490a10e59b"
      },
      "source": [
        "from sklearn.linear_model import RidgeCV\n",
        "\n",
        "model = RidgeCV()\n",
        "model.fit(X_train, y_train)\n",
        "predict = model.predict(X_test)\n",
        "print(r2_score(y_test, predict))"
      ],
      "execution_count": null,
      "outputs": [
        {
          "output_type": "stream",
          "name": "stdout",
          "text": [
            "0.31294317665043603\n"
          ]
        }
      ]
    },
    {
      "cell_type": "markdown",
      "metadata": {
        "id": "z9fvh_Z0gw_7"
      },
      "source": [
        "#### TPOT"
      ]
    },
    {
      "cell_type": "code",
      "metadata": {
        "colab": {
          "base_uri": "https://localhost:8080/",
          "height": 503,
          "referenced_widgets": [
            "d0dceb5a70434e3f8bb95e9b0fe40ced",
            "bd9be885db924191bddd878fc191a25c",
            "8c8e073a16614d5bad010775048dacc5",
            "2fa0f201bf3c4e39909c610b8badd0a3",
            "75ef8981a15846dbacaea3eee546dec4",
            "9981f95aee4848f4bfe7b2519a2fe517",
            "d2ad77c45f5841e49397a995f56f04be",
            "4da85c06f7a94919a817d5674ce36c8d",
            "eb45c8b3b4ae41bba4692d38f368b1cb",
            "cb58d4d98b544f9299d92da3e90e322c",
            "d9b9fffaafab43d3a982142cf3571e1d"
          ]
        },
        "id": "T77EJCSQaTxJ",
        "outputId": "93da4ab3-0103-46b3-d638-f2927d27a4dc"
      },
      "source": [
        "X_train, X_test, y_train, y_test = train_test_split(df_feat, y, train_size=.7, random_state=42)\n",
        "tpot = TPOTRegressor(generations=10, population_size=100, verbosity=2, \n",
        "                     scoring=\"r2\", random_state=42)\n",
        "tpot.fit(X_train, y_train)\n",
        "print(tpot.score(X_test, y_test))\n",
        "tpot.export('tpot_pipeline.py')"
      ],
      "execution_count": null,
      "outputs": [
        {
          "data": {
            "application/vnd.jupyter.widget-view+json": {
              "model_id": "d0dceb5a70434e3f8bb95e9b0fe40ced",
              "version_major": 2,
              "version_minor": 0
            },
            "text/plain": [
              "Optimization Progress:   0%|          | 0/1100 [00:00<?, ?pipeline/s]"
            ]
          },
          "metadata": {},
          "output_type": "display_data"
        },
        {
          "output_type": "stream",
          "name": "stdout",
          "text": [
            "\n",
            "Generation 1 - Current best internal CV score: 0.292279884094944\n",
            "\n",
            "Generation 2 - Current best internal CV score: 0.2938919994405861\n",
            "\n",
            "Generation 3 - Current best internal CV score: 0.2938919994405861\n",
            "\n",
            "Generation 4 - Current best internal CV score: 0.2938919994405861\n",
            "\n",
            "Generation 5 - Current best internal CV score: 0.2938919994405861\n",
            "\n",
            "Generation 6 - Current best internal CV score: 0.2944163785524348\n",
            "\n",
            "Generation 7 - Current best internal CV score: 0.29448671892818035\n",
            "\n",
            "Generation 8 - Current best internal CV score: 0.29448671892818035\n",
            "\n",
            "Generation 9 - Current best internal CV score: 0.29472461568512415\n",
            "\n",
            "Generation 10 - Current best internal CV score: 0.29472461568512415\n",
            "\n",
            "Best pipeline: LassoLarsCV(SGDRegressor(ElasticNetCV(MinMaxScaler(input_matrix), l1_ratio=0.05, tol=1e-05), alpha=0.001, eta0=0.01, fit_intercept=False, l1_ratio=0.0, learning_rate=constant, loss=epsilon_insensitive, penalty=elasticnet, power_t=1.0), normalize=False)\n",
            "0.31686515423191075\n"
          ]
        },
        {
          "output_type": "stream",
          "name": "stderr",
          "text": [
            "/usr/local/lib/python3.7/dist-packages/sklearn/utils/validation.py:1679: FutureWarning: Feature names only support names that are all strings. Got feature names with dtypes: ['str', 'str_']. An error will be raised in 1.2.\n",
            "  FutureWarning,\n"
          ]
        }
      ]
    },
    {
      "cell_type": "code",
      "metadata": {
        "id": "M4e9W_6UhDiT"
      },
      "source": [
        "from sklearn.pipeline           import make_pipeline, make_union\n",
        "from sklearn.preprocessing      import RobustScaler, StandardScaler\n",
        "from sklearn.feature_selection  import SelectPercentile, f_regression\n",
        "from sklearn.linear_model       import (ElasticNetCV, LassoLarsCV, \n",
        "                                        RidgeCV, SGDRegressor)\n",
        "from sklearn.ensemble           import GradientBoostingRegressor\n",
        "from tpot.builtins              import OneHotEncoder, StackingEstimator"
      ],
      "execution_count": null,
      "outputs": []
    },
    {
      "cell_type": "code",
      "metadata": {
        "colab": {
          "base_uri": "https://localhost:8080/"
        },
        "id": "j9Lcof8a5PFH",
        "outputId": "3cc4b832-185c-4553-bf71-d192fa34dc52"
      },
      "source": [
        "# Average CV score on the training set was: 0.29472461568512415\n",
        "exported_pipeline = make_pipeline(\n",
        "    MinMaxScaler(),\n",
        "    StackingEstimator(estimator=ElasticNetCV(l1_ratio=0.05, tol=1e-05)),\n",
        "    StackingEstimator(estimator=SGDRegressor(alpha=0.001, eta0=0.01, fit_intercept=False, l1_ratio=0.0, learning_rate=\"constant\", loss=\"epsilon_insensitive\", penalty=\"elasticnet\", power_t=1.0)),\n",
        "    LassoLarsCV(normalize=False)\n",
        ")\n",
        "exported_pipeline.fit(X_train, y_train)\n",
        "results = exported_pipeline.predict(X_test)\n",
        "print(f'r2: {r2_score(y_test, results):.4f} | mae: {mean_absolute_error(y_test, results):.4f}')"
      ],
      "execution_count": null,
      "outputs": [
        {
          "output_type": "stream",
          "name": "stdout",
          "text": [
            "r2: 0.3178 | mae: 5.0640\n"
          ]
        }
      ]
    },
    {
      "cell_type": "code",
      "metadata": {
        "colab": {
          "base_uri": "https://localhost:8080/"
        },
        "id": "aZRBAlV8jE4Z",
        "outputId": "7dfbb7fc-45e1-41b7-e008-91047634ed7d"
      },
      "source": [
        "scores = cross_validate(exported_pipeline, X, y, cv=10,\n",
        "                        scoring='r2', return_train_score=True)\n",
        "scores[\"train_score\"].mean()"
      ],
      "execution_count": null,
      "outputs": [
        {
          "output_type": "execute_result",
          "data": {
            "text/plain": [
              "0.3081900133018009"
            ]
          },
          "metadata": {},
          "execution_count": 164
        }
      ]
    },
    {
      "cell_type": "code",
      "metadata": {
        "colab": {
          "base_uri": "https://localhost:8080/"
        },
        "id": "MYue2paHpCI8",
        "outputId": "8fe4d430-474d-4568-8467-aa597c6cce3d"
      },
      "source": [
        "# Average CV score on the training set was: 0.29440305111758236\n",
        "exported_pipeline = make_pipeline(\n",
        "    # SelectPercentile(score_func=f_regression, percentile=84),\n",
        "    RidgeCV()\n",
        ")\n",
        "exported_pipeline.fit(X_train, y_train)\n",
        "results = exported_pipeline.predict(X_test)\n",
        "print(f'r2: {r2_score(y_test, results):.4f} | mae: {mean_absolute_error(y_test, results):.4f}')"
      ],
      "execution_count": null,
      "outputs": [
        {
          "output_type": "stream",
          "name": "stdout",
          "text": [
            "r2: 0.3157 | mae: 5.0792\n"
          ]
        }
      ]
    },
    {
      "cell_type": "code",
      "metadata": {
        "colab": {
          "base_uri": "https://localhost:8080/"
        },
        "id": "1ikMPT1O6o-U",
        "outputId": "5969a548-265d-4d5f-9160-d07ceab1f95b"
      },
      "source": [
        "# Average CV score on the training set was: 0.17915259203950792\n",
        "exported_pipeline = make_pipeline(\n",
        "    StandardScaler(),\n",
        "    StackingEstimator(estimator=SGDRegressor(alpha=0.0, eta0=0.1, fit_intercept=True, l1_ratio=0.5, learning_rate=\"invscaling\", loss=\"huber\", penalty=\"elasticnet\", power_t=0.0)),\n",
        "    RobustScaler(),\n",
        "    StackingEstimator(estimator=RidgeCV()),\n",
        "    StackingEstimator(estimator=GradientBoostingRegressor(alpha=0.99, learning_rate=1.0, loss=\"ls\", max_depth=8, max_features=0.15000000000000002, min_samples_leaf=12, min_samples_split=5, n_estimators=100, subsample=0.05)),\n",
        "    StackingEstimator(estimator=LassoLarsCV(normalize=True)),\n",
        "    OneHotEncoder(minimum_fraction=0.1, sparse=False, threshold=10),\n",
        "    ElasticNetCV(l1_ratio=0.6000000000000001, tol=0.001)\n",
        ")\n",
        "exported_pipeline.fit(X_train, y_train)\n",
        "results = exported_pipeline.predict(X_test)\n",
        "print(f'r2: {r2_score(y_test, results):.4f} | mae: {mean_absolute_error(y_test, results):.4f}')"
      ],
      "execution_count": null,
      "outputs": [
        {
          "output_type": "stream",
          "name": "stderr",
          "text": [
            "/usr/local/lib/python3.7/dist-packages/sklearn/ensemble/_gb.py:290: FutureWarning: The loss 'ls' was deprecated in v1.0 and will be removed in version 1.2. Use 'squared_error' which is equivalent.\n",
            "  FutureWarning,\n"
          ]
        },
        {
          "output_type": "stream",
          "name": "stdout",
          "text": [
            "r2: 0.2082 | mae: 4.8008\n"
          ]
        }
      ]
    },
    {
      "cell_type": "markdown",
      "metadata": {
        "id": "WM4kz0ung0fk"
      },
      "source": [
        "#### XGBoost"
      ]
    },
    {
      "cell_type": "code",
      "metadata": {
        "colab": {
          "base_uri": "https://localhost:8080/"
        },
        "id": "IPiq4t2bN2jJ",
        "outputId": "ebf6d06e-2313-41b7-f896-a4a2f3c31fbe"
      },
      "source": [
        "from xgboost import XGBRegressor\n",
        "\n",
        "XGB = XGBRegressor(random_state=42)\n",
        "XGB.fit(X_train, y_train)\n",
        "pred = XGB.predict(X_test)\n",
        "print(f'r2: {r2_score(y_test, predict):.4f} | mae: {mean_absolute_error(y_test, predict):.4f}')"
      ],
      "execution_count": null,
      "outputs": [
        {
          "output_type": "stream",
          "name": "stdout",
          "text": [
            "r2: -0.5624 | mae: 7.4058\n"
          ]
        }
      ]
    },
    {
      "cell_type": "markdown",
      "metadata": {
        "id": "6WFjJ-24hakJ"
      },
      "source": [
        "## Part 3 - Submiting"
      ]
    },
    {
      "cell_type": "code",
      "metadata": {
        "colab": {
          "base_uri": "https://localhost:8080/",
          "height": 424
        },
        "id": "C0FsQEpyhhnA",
        "outputId": "b9b9ebed-caf0-4095-cd35-8cc1fc20674d"
      },
      "source": [
        "answers = pd.read_csv(\"https://raw.githubusercontent.com/maratonadev/desafio-2-2021/main/assets/answers.csv\")\n",
        "answers.drop([\"ID\", \"RYTHM\"], axis=1, inplace=True)\n",
        "\n",
        "df = df.groupby(by=\"RYTHM\").mean()\n",
        "df[\"RYTHM\"] = df.index\n",
        "df.index = range(0, 1828)\n",
        "\n",
        "X = df[[\"ILLUM\", \"HUMID\", \"CO2\", \"SOUND\", \"TEMP\"]]\n",
        "y = df[\"RYTHM\"]\n",
        "\n",
        "rythm = LinearRegression().fit(X, y).predict(answers)\n",
        "\n",
        "answers[\"RYTHM\"] = rythm\n",
        "answers[\"ID\"] = range(0,800)\n",
        "answers = answers[[\"ID\", \"ILLUM\", \"HUMID\", \"CO2\", \"SOUND\", \"TEMP\", \"RYTHM\"]]\n",
        "\n",
        "answers.to_csv(\"answers.csv\", index=False)\n",
        "answers"
      ],
      "execution_count": null,
      "outputs": [
        {
          "output_type": "execute_result",
          "data": {
            "text/html": [
              "<div>\n",
              "<style scoped>\n",
              "    .dataframe tbody tr th:only-of-type {\n",
              "        vertical-align: middle;\n",
              "    }\n",
              "\n",
              "    .dataframe tbody tr th {\n",
              "        vertical-align: top;\n",
              "    }\n",
              "\n",
              "    .dataframe thead th {\n",
              "        text-align: right;\n",
              "    }\n",
              "</style>\n",
              "<table border=\"1\" class=\"dataframe\">\n",
              "  <thead>\n",
              "    <tr style=\"text-align: right;\">\n",
              "      <th></th>\n",
              "      <th>ID</th>\n",
              "      <th>ILLUM</th>\n",
              "      <th>HUMID</th>\n",
              "      <th>CO2</th>\n",
              "      <th>SOUND</th>\n",
              "      <th>TEMP</th>\n",
              "      <th>RYTHM</th>\n",
              "    </tr>\n",
              "  </thead>\n",
              "  <tbody>\n",
              "    <tr>\n",
              "      <th>0</th>\n",
              "      <td>0</td>\n",
              "      <td>337.90</td>\n",
              "      <td>63.29</td>\n",
              "      <td>518.13</td>\n",
              "      <td>22.38</td>\n",
              "      <td>18.59</td>\n",
              "      <td>74.923863</td>\n",
              "    </tr>\n",
              "    <tr>\n",
              "      <th>1</th>\n",
              "      <td>1</td>\n",
              "      <td>342.96</td>\n",
              "      <td>63.19</td>\n",
              "      <td>488.85</td>\n",
              "      <td>37.36</td>\n",
              "      <td>20.41</td>\n",
              "      <td>81.068060</td>\n",
              "    </tr>\n",
              "    <tr>\n",
              "      <th>2</th>\n",
              "      <td>2</td>\n",
              "      <td>369.86</td>\n",
              "      <td>57.39</td>\n",
              "      <td>516.86</td>\n",
              "      <td>26.45</td>\n",
              "      <td>20.89</td>\n",
              "      <td>80.844541</td>\n",
              "    </tr>\n",
              "    <tr>\n",
              "      <th>3</th>\n",
              "      <td>3</td>\n",
              "      <td>304.65</td>\n",
              "      <td>67.80</td>\n",
              "      <td>517.50</td>\n",
              "      <td>32.98</td>\n",
              "      <td>22.52</td>\n",
              "      <td>85.283496</td>\n",
              "    </tr>\n",
              "    <tr>\n",
              "      <th>4</th>\n",
              "      <td>4</td>\n",
              "      <td>442.25</td>\n",
              "      <td>68.21</td>\n",
              "      <td>500.91</td>\n",
              "      <td>37.28</td>\n",
              "      <td>21.88</td>\n",
              "      <td>85.974594</td>\n",
              "    </tr>\n",
              "    <tr>\n",
              "      <th>...</th>\n",
              "      <td>...</td>\n",
              "      <td>...</td>\n",
              "      <td>...</td>\n",
              "      <td>...</td>\n",
              "      <td>...</td>\n",
              "      <td>...</td>\n",
              "      <td>...</td>\n",
              "    </tr>\n",
              "    <tr>\n",
              "      <th>795</th>\n",
              "      <td>795</td>\n",
              "      <td>421.39</td>\n",
              "      <td>55.97</td>\n",
              "      <td>451.86</td>\n",
              "      <td>29.25</td>\n",
              "      <td>18.96</td>\n",
              "      <td>73.703550</td>\n",
              "    </tr>\n",
              "    <tr>\n",
              "      <th>796</th>\n",
              "      <td>796</td>\n",
              "      <td>572.90</td>\n",
              "      <td>59.42</td>\n",
              "      <td>502.12</td>\n",
              "      <td>36.12</td>\n",
              "      <td>19.70</td>\n",
              "      <td>83.307673</td>\n",
              "    </tr>\n",
              "    <tr>\n",
              "      <th>797</th>\n",
              "      <td>797</td>\n",
              "      <td>460.78</td>\n",
              "      <td>64.28</td>\n",
              "      <td>560.54</td>\n",
              "      <td>31.20</td>\n",
              "      <td>15.11</td>\n",
              "      <td>76.405958</td>\n",
              "    </tr>\n",
              "    <tr>\n",
              "      <th>798</th>\n",
              "      <td>798</td>\n",
              "      <td>499.75</td>\n",
              "      <td>67.20</td>\n",
              "      <td>536.88</td>\n",
              "      <td>30.68</td>\n",
              "      <td>17.57</td>\n",
              "      <td>79.383572</td>\n",
              "    </tr>\n",
              "    <tr>\n",
              "      <th>799</th>\n",
              "      <td>799</td>\n",
              "      <td>453.78</td>\n",
              "      <td>58.24</td>\n",
              "      <td>442.83</td>\n",
              "      <td>26.21</td>\n",
              "      <td>20.58</td>\n",
              "      <td>75.361706</td>\n",
              "    </tr>\n",
              "  </tbody>\n",
              "</table>\n",
              "<p>800 rows × 7 columns</p>\n",
              "</div>"
            ],
            "text/plain": [
              "      ID   ILLUM  HUMID     CO2  SOUND   TEMP      RYTHM\n",
              "0      0  337.90  63.29  518.13  22.38  18.59  74.923863\n",
              "1      1  342.96  63.19  488.85  37.36  20.41  81.068060\n",
              "2      2  369.86  57.39  516.86  26.45  20.89  80.844541\n",
              "3      3  304.65  67.80  517.50  32.98  22.52  85.283496\n",
              "4      4  442.25  68.21  500.91  37.28  21.88  85.974594\n",
              "..   ...     ...    ...     ...    ...    ...        ...\n",
              "795  795  421.39  55.97  451.86  29.25  18.96  73.703550\n",
              "796  796  572.90  59.42  502.12  36.12  19.70  83.307673\n",
              "797  797  460.78  64.28  560.54  31.20  15.11  76.405958\n",
              "798  798  499.75  67.20  536.88  30.68  17.57  79.383572\n",
              "799  799  453.78  58.24  442.83  26.21  20.58  75.361706\n",
              "\n",
              "[800 rows x 7 columns]"
            ]
          },
          "metadata": {},
          "execution_count": 201
        }
      ]
    }
  ]
}