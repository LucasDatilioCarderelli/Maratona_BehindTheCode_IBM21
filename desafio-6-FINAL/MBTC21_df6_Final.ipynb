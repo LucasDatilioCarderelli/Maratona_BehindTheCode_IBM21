{
  "nbformat": 4,
  "nbformat_minor": 0,
  "metadata": {
    "colab": {
      "name": "MBTC21_df6-Final",
      "provenance": [],
      "authorship_tag": "ABX9TyN0O4klYHtloEyCB4yYViDY",
      "include_colab_link": true
    },
    "kernelspec": {
      "name": "python3",
      "display_name": "Python 3"
    },
    "language_info": {
      "name": "python"
    }
  },
  "cells": [
    {
      "cell_type": "markdown",
      "metadata": {
        "id": "view-in-github",
        "colab_type": "text"
      },
      "source": [
        "<a href=\"https://colab.research.google.com/github/LucasDatilioCarderelli/Maratona_BehindTheCode_IBM21/blob/main/desafio-6-FINAL/MBTC21_df6_Final.ipynb\" target=\"_parent\"><img src=\"https://colab.research.google.com/assets/colab-badge.svg\" alt=\"Open In Colab\"/></a>"
      ]
    },
    {
      "cell_type": "code",
      "execution_count": null,
      "metadata": {
        "id": "49jDgY5itr4G",
        "colab": {
          "base_uri": "https://localhost:8080/"
        },
        "outputId": "619fdadb-5239-4db2-d024-9f1f63764e55"
      },
      "outputs": [
        {
          "output_type": "execute_result",
          "data": {
            "text/plain": [
              "{'evapo': 0.002,\n",
              " 'temperature_max': -4,\n",
              " 'temperature_min': -14,\n",
              " 'wind_direction': 213,\n",
              " 'wind_speed': 12}"
            ]
          },
          "metadata": {},
          "execution_count": 32
        }
      ],
      "source": [
        "dict = {\n",
        "    # 'crop':'soybeans',\n",
        "    # 'crop':'coffee',\n",
        "    'crop':'corn',\n",
        "}\n",
        "\n",
        "import requests\n",
        "\n",
        "def main(dict):\n",
        "    crop = dict['crop'] + ':50'\n",
        "    geocode = '-21.170401,-47.810326'\n",
        "    format = 'json'\n",
        "    unit = 'm'\n",
        "    apiKey = '<apikey>'\n",
        "\n",
        "    evapo = requests.get(f'https://api.weather.com/v3/wx/forecast/hourly/agriculture/15day?geocode={geocode}&format={format}&units={unit}&apiKey={apiKey}&crop={crop}')\n",
        "    evapo_data = evapo.json()\n",
        "\n",
        "    weather = requests.get(f'https://api.weather.com/v3/wx/forecast/daily/15day?postalKey=81657:US&units={unit}&language=en-US&format={format}&apiKey={apiKey}')\n",
        "    weather_data = weather.json()\n",
        "\n",
        "    evapo_value = evapo_data['forecasts1Hour']['evapotranspirationCrop'][0]\n",
        "    temperature_max = weather_data['temperatureMax'][-1]\n",
        "    temperature_min = weather_data['temperatureMin'][-1]\n",
        "    wind_speed = weather_data['daypart'][0]['windSpeed'][-1]\n",
        "    wind_direction = weather_data['daypart'][0]['windDirection'][-1]\n",
        "\n",
        "    result = {\n",
        "        'evapo': evapo_value,\n",
        "        'temperature_max': temperature_max,\n",
        "        'temperature_min': temperature_min,\n",
        "        'wind_speed': wind_speed,\n",
        "        'wind_direction': wind_direction\n",
        "    }\n",
        "\n",
        "    return result\n",
        "\n",
        "main(dict)"
      ]
    }
  ]
}